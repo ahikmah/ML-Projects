{
  "nbformat": 4,
  "nbformat_minor": 0,
  "metadata": {
    "colab": {
      "name": "Data Cleaning - Predict Movie Revenue.ipynb",
      "provenance": []
    },
    "kernelspec": {
      "name": "python3",
      "display_name": "Python 3"
    },
    "language_info": {
      "name": "python"
    }
  },
  "cells": [
    {
      "cell_type": "code",
      "metadata": {
        "colab": {
          "base_uri": "https://localhost:8080/",
          "height": 195
        },
        "id": "dxOwDAf0uuw3",
        "outputId": "4a1bcde3-acdc-42a2-a2db-f5fdd69d25c3"
      },
      "source": [
        "import pandas as pd\n",
        "\n",
        "df = pd.read_csv('https://raw.githubusercontent.com/ahikmah/ML-Projects/main/Predict%20Movie%20Revenue%20-%20Linear%20Regression/datasets/cost_revenue_dirty.csv')\n",
        "df.head()"
      ],
      "execution_count": 1,
      "outputs": [
        {
          "output_type": "execute_result",
          "data": {
            "text/html": [
              "<div>\n",
              "<style scoped>\n",
              "    .dataframe tbody tr th:only-of-type {\n",
              "        vertical-align: middle;\n",
              "    }\n",
              "\n",
              "    .dataframe tbody tr th {\n",
              "        vertical-align: top;\n",
              "    }\n",
              "\n",
              "    .dataframe thead th {\n",
              "        text-align: right;\n",
              "    }\n",
              "</style>\n",
              "<table border=\"1\" class=\"dataframe\">\n",
              "  <thead>\n",
              "    <tr style=\"text-align: right;\">\n",
              "      <th></th>\n",
              "      <th>Rank</th>\n",
              "      <th>Release Date</th>\n",
              "      <th>Movie Title</th>\n",
              "      <th>Production Budget ($)</th>\n",
              "      <th>Worldwide Gross ($)</th>\n",
              "      <th>Domestic Gross ($)</th>\n",
              "    </tr>\n",
              "  </thead>\n",
              "  <tbody>\n",
              "    <tr>\n",
              "      <th>0</th>\n",
              "      <td>5293</td>\n",
              "      <td>8/2/1915</td>\n",
              "      <td>The Birth of a Nation</td>\n",
              "      <td>$110,000</td>\n",
              "      <td>$11,000,000</td>\n",
              "      <td>$10,000,000</td>\n",
              "    </tr>\n",
              "    <tr>\n",
              "      <th>1</th>\n",
              "      <td>5140</td>\n",
              "      <td>5/9/1916</td>\n",
              "      <td>Intolerance</td>\n",
              "      <td>$385,907</td>\n",
              "      <td>$0</td>\n",
              "      <td>$0</td>\n",
              "    </tr>\n",
              "    <tr>\n",
              "      <th>2</th>\n",
              "      <td>5230</td>\n",
              "      <td>12/24/1916</td>\n",
              "      <td>20,000 Leagues Under the Sea</td>\n",
              "      <td>$200,000</td>\n",
              "      <td>$8,000,000</td>\n",
              "      <td>$8,000,000</td>\n",
              "    </tr>\n",
              "    <tr>\n",
              "      <th>3</th>\n",
              "      <td>5299</td>\n",
              "      <td>9/17/1920</td>\n",
              "      <td>Over the Hill to the Poorhouse</td>\n",
              "      <td>$100,000</td>\n",
              "      <td>$3,000,000</td>\n",
              "      <td>$3,000,000</td>\n",
              "    </tr>\n",
              "    <tr>\n",
              "      <th>4</th>\n",
              "      <td>5222</td>\n",
              "      <td>1/1/1925</td>\n",
              "      <td>The Big Parade</td>\n",
              "      <td>$245,000</td>\n",
              "      <td>$22,000,000</td>\n",
              "      <td>$11,000,000</td>\n",
              "    </tr>\n",
              "  </tbody>\n",
              "</table>\n",
              "</div>"
            ],
            "text/plain": [
              "   Rank Release Date  ... Worldwide Gross ($) Domestic Gross ($)\n",
              "0  5293     8/2/1915  ...         $11,000,000        $10,000,000\n",
              "1  5140     5/9/1916  ...                  $0                 $0\n",
              "2  5230   12/24/1916  ...          $8,000,000         $8,000,000\n",
              "3  5299    9/17/1920  ...          $3,000,000         $3,000,000\n",
              "4  5222     1/1/1925  ...         $22,000,000        $11,000,000\n",
              "\n",
              "[5 rows x 6 columns]"
            ]
          },
          "metadata": {
            "tags": []
          },
          "execution_count": 1
        }
      ]
    },
    {
      "cell_type": "code",
      "metadata": {
        "colab": {
          "base_uri": "https://localhost:8080/",
          "height": 195
        },
        "id": "F4iB6vGNxeZZ",
        "outputId": "c31ae49c-8317-4ef7-b7c5-c5afdc07f0d6"
      },
      "source": [
        "# Remove unnecessary columns, such as: Rank, Release Date, Movie Title, Domestic Gross ($)\n",
        "df = df.drop(['Rank', 'Release Date', 'Movie Title', 'Domestic Gross ($)'], axis = 1)\n",
        "df.head()"
      ],
      "execution_count": 2,
      "outputs": [
        {
          "output_type": "execute_result",
          "data": {
            "text/html": [
              "<div>\n",
              "<style scoped>\n",
              "    .dataframe tbody tr th:only-of-type {\n",
              "        vertical-align: middle;\n",
              "    }\n",
              "\n",
              "    .dataframe tbody tr th {\n",
              "        vertical-align: top;\n",
              "    }\n",
              "\n",
              "    .dataframe thead th {\n",
              "        text-align: right;\n",
              "    }\n",
              "</style>\n",
              "<table border=\"1\" class=\"dataframe\">\n",
              "  <thead>\n",
              "    <tr style=\"text-align: right;\">\n",
              "      <th></th>\n",
              "      <th>Production Budget ($)</th>\n",
              "      <th>Worldwide Gross ($)</th>\n",
              "    </tr>\n",
              "  </thead>\n",
              "  <tbody>\n",
              "    <tr>\n",
              "      <th>0</th>\n",
              "      <td>$110,000</td>\n",
              "      <td>$11,000,000</td>\n",
              "    </tr>\n",
              "    <tr>\n",
              "      <th>1</th>\n",
              "      <td>$385,907</td>\n",
              "      <td>$0</td>\n",
              "    </tr>\n",
              "    <tr>\n",
              "      <th>2</th>\n",
              "      <td>$200,000</td>\n",
              "      <td>$8,000,000</td>\n",
              "    </tr>\n",
              "    <tr>\n",
              "      <th>3</th>\n",
              "      <td>$100,000</td>\n",
              "      <td>$3,000,000</td>\n",
              "    </tr>\n",
              "    <tr>\n",
              "      <th>4</th>\n",
              "      <td>$245,000</td>\n",
              "      <td>$22,000,000</td>\n",
              "    </tr>\n",
              "  </tbody>\n",
              "</table>\n",
              "</div>"
            ],
            "text/plain": [
              "  Production Budget ($) Worldwide Gross ($)\n",
              "0              $110,000         $11,000,000\n",
              "1              $385,907                  $0\n",
              "2              $200,000          $8,000,000\n",
              "3              $100,000          $3,000,000\n",
              "4              $245,000         $22,000,000"
            ]
          },
          "metadata": {
            "tags": []
          },
          "execution_count": 2
        }
      ]
    },
    {
      "cell_type": "code",
      "metadata": {
        "colab": {
          "base_uri": "https://localhost:8080/",
          "height": 195
        },
        "id": "_aNpRgimzykW",
        "outputId": "e94edd70-311e-407a-f443-261dc6a27032"
      },
      "source": [
        "# change header name\n",
        "df = df.rename({'Production Budget ($)' : 'production_budget_usd', 'Worldwide Gross ($)' : 'worldwide_gross_usd'}, axis=1)\n",
        "df.head()"
      ],
      "execution_count": 3,
      "outputs": [
        {
          "output_type": "execute_result",
          "data": {
            "text/html": [
              "<div>\n",
              "<style scoped>\n",
              "    .dataframe tbody tr th:only-of-type {\n",
              "        vertical-align: middle;\n",
              "    }\n",
              "\n",
              "    .dataframe tbody tr th {\n",
              "        vertical-align: top;\n",
              "    }\n",
              "\n",
              "    .dataframe thead th {\n",
              "        text-align: right;\n",
              "    }\n",
              "</style>\n",
              "<table border=\"1\" class=\"dataframe\">\n",
              "  <thead>\n",
              "    <tr style=\"text-align: right;\">\n",
              "      <th></th>\n",
              "      <th>production_budget_usd</th>\n",
              "      <th>worldwide_gross_usd</th>\n",
              "    </tr>\n",
              "  </thead>\n",
              "  <tbody>\n",
              "    <tr>\n",
              "      <th>0</th>\n",
              "      <td>$110,000</td>\n",
              "      <td>$11,000,000</td>\n",
              "    </tr>\n",
              "    <tr>\n",
              "      <th>1</th>\n",
              "      <td>$385,907</td>\n",
              "      <td>$0</td>\n",
              "    </tr>\n",
              "    <tr>\n",
              "      <th>2</th>\n",
              "      <td>$200,000</td>\n",
              "      <td>$8,000,000</td>\n",
              "    </tr>\n",
              "    <tr>\n",
              "      <th>3</th>\n",
              "      <td>$100,000</td>\n",
              "      <td>$3,000,000</td>\n",
              "    </tr>\n",
              "    <tr>\n",
              "      <th>4</th>\n",
              "      <td>$245,000</td>\n",
              "      <td>$22,000,000</td>\n",
              "    </tr>\n",
              "  </tbody>\n",
              "</table>\n",
              "</div>"
            ],
            "text/plain": [
              "  production_budget_usd worldwide_gross_usd\n",
              "0              $110,000         $11,000,000\n",
              "1              $385,907                  $0\n",
              "2              $200,000          $8,000,000\n",
              "3              $100,000          $3,000,000\n",
              "4              $245,000         $22,000,000"
            ]
          },
          "metadata": {
            "tags": []
          },
          "execution_count": 3
        }
      ]
    },
    {
      "cell_type": "code",
      "metadata": {
        "colab": {
          "base_uri": "https://localhost:8080/",
          "height": 195
        },
        "id": "XW-iIV3tviNt",
        "outputId": "90d95e24-b07f-44f5-a6ed-2f7fab35b599"
      },
      "source": [
        "# remove dollar and comma\n",
        "df['production_budget_usd'] = df['production_budget_usd'].str.replace(',', '')\n",
        "df['production_budget_usd'] = df['production_budget_usd'].str.replace('$', '')\n",
        "df['production_budget_usd'] = df['production_budget_usd'].astype(int)\n",
        "\n",
        "# we can also do the same thing with chaining method to worldwide_gross_usd column\n",
        "df['worldwide_gross_usd'] = df['worldwide_gross_usd'].str.replace(',', '').str.replace('$', '').astype(int)\n",
        "\n",
        "df.head()"
      ],
      "execution_count": 4,
      "outputs": [
        {
          "output_type": "execute_result",
          "data": {
            "text/html": [
              "<div>\n",
              "<style scoped>\n",
              "    .dataframe tbody tr th:only-of-type {\n",
              "        vertical-align: middle;\n",
              "    }\n",
              "\n",
              "    .dataframe tbody tr th {\n",
              "        vertical-align: top;\n",
              "    }\n",
              "\n",
              "    .dataframe thead th {\n",
              "        text-align: right;\n",
              "    }\n",
              "</style>\n",
              "<table border=\"1\" class=\"dataframe\">\n",
              "  <thead>\n",
              "    <tr style=\"text-align: right;\">\n",
              "      <th></th>\n",
              "      <th>production_budget_usd</th>\n",
              "      <th>worldwide_gross_usd</th>\n",
              "    </tr>\n",
              "  </thead>\n",
              "  <tbody>\n",
              "    <tr>\n",
              "      <th>0</th>\n",
              "      <td>110000</td>\n",
              "      <td>11000000</td>\n",
              "    </tr>\n",
              "    <tr>\n",
              "      <th>1</th>\n",
              "      <td>385907</td>\n",
              "      <td>0</td>\n",
              "    </tr>\n",
              "    <tr>\n",
              "      <th>2</th>\n",
              "      <td>200000</td>\n",
              "      <td>8000000</td>\n",
              "    </tr>\n",
              "    <tr>\n",
              "      <th>3</th>\n",
              "      <td>100000</td>\n",
              "      <td>3000000</td>\n",
              "    </tr>\n",
              "    <tr>\n",
              "      <th>4</th>\n",
              "      <td>245000</td>\n",
              "      <td>22000000</td>\n",
              "    </tr>\n",
              "  </tbody>\n",
              "</table>\n",
              "</div>"
            ],
            "text/plain": [
              "   production_budget_usd  worldwide_gross_usd\n",
              "0                 110000             11000000\n",
              "1                 385907                    0\n",
              "2                 200000              8000000\n",
              "3                 100000              3000000\n",
              "4                 245000             22000000"
            ]
          },
          "metadata": {
            "tags": []
          },
          "execution_count": 4
        }
      ]
    },
    {
      "cell_type": "code",
      "metadata": {
        "colab": {
          "base_uri": "https://localhost:8080/",
          "height": 402
        },
        "id": "uVHmQhcL4sda",
        "outputId": "cba6c1aa-0197-48e4-9898-ec37db24cd7f"
      },
      "source": [
        "# get names of indexes for which\n",
        "# column production_budget_usd and worldwide_gross_usd have value 0\n",
        "index_names = df[ (df['production_budget_usd'] == 0) | (df['worldwide_gross_usd'] == 0)].index\n",
        "\n",
        "# drop these given row\n",
        "# indexes from dataFrame\n",
        "df.drop(index_names, inplace = True)\n",
        "  \n",
        "df"
      ],
      "execution_count": 5,
      "outputs": [
        {
          "output_type": "execute_result",
          "data": {
            "text/html": [
              "<div>\n",
              "<style scoped>\n",
              "    .dataframe tbody tr th:only-of-type {\n",
              "        vertical-align: middle;\n",
              "    }\n",
              "\n",
              "    .dataframe tbody tr th {\n",
              "        vertical-align: top;\n",
              "    }\n",
              "\n",
              "    .dataframe thead th {\n",
              "        text-align: right;\n",
              "    }\n",
              "</style>\n",
              "<table border=\"1\" class=\"dataframe\">\n",
              "  <thead>\n",
              "    <tr style=\"text-align: right;\">\n",
              "      <th></th>\n",
              "      <th>production_budget_usd</th>\n",
              "      <th>worldwide_gross_usd</th>\n",
              "    </tr>\n",
              "  </thead>\n",
              "  <tbody>\n",
              "    <tr>\n",
              "      <th>0</th>\n",
              "      <td>110000</td>\n",
              "      <td>11000000</td>\n",
              "    </tr>\n",
              "    <tr>\n",
              "      <th>2</th>\n",
              "      <td>200000</td>\n",
              "      <td>8000000</td>\n",
              "    </tr>\n",
              "    <tr>\n",
              "      <th>3</th>\n",
              "      <td>100000</td>\n",
              "      <td>3000000</td>\n",
              "    </tr>\n",
              "    <tr>\n",
              "      <th>4</th>\n",
              "      <td>245000</td>\n",
              "      <td>22000000</td>\n",
              "    </tr>\n",
              "    <tr>\n",
              "      <th>5</th>\n",
              "      <td>3900000</td>\n",
              "      <td>9000000</td>\n",
              "    </tr>\n",
              "    <tr>\n",
              "      <th>...</th>\n",
              "      <td>...</td>\n",
              "      <td>...</td>\n",
              "    </tr>\n",
              "    <tr>\n",
              "      <th>5378</th>\n",
              "      <td>55000000</td>\n",
              "      <td>376856949</td>\n",
              "    </tr>\n",
              "    <tr>\n",
              "      <th>5379</th>\n",
              "      <td>40000000</td>\n",
              "      <td>166893990</td>\n",
              "    </tr>\n",
              "    <tr>\n",
              "      <th>5380</th>\n",
              "      <td>185000000</td>\n",
              "      <td>561137727</td>\n",
              "    </tr>\n",
              "    <tr>\n",
              "      <th>5381</th>\n",
              "      <td>175000000</td>\n",
              "      <td>140012608</td>\n",
              "    </tr>\n",
              "    <tr>\n",
              "      <th>5382</th>\n",
              "      <td>42000000</td>\n",
              "      <td>57850343</td>\n",
              "    </tr>\n",
              "  </tbody>\n",
              "</table>\n",
              "<p>5034 rows × 2 columns</p>\n",
              "</div>"
            ],
            "text/plain": [
              "      production_budget_usd  worldwide_gross_usd\n",
              "0                    110000             11000000\n",
              "2                    200000              8000000\n",
              "3                    100000              3000000\n",
              "4                    245000             22000000\n",
              "5                   3900000              9000000\n",
              "...                     ...                  ...\n",
              "5378               55000000            376856949\n",
              "5379               40000000            166893990\n",
              "5380              185000000            561137727\n",
              "5381              175000000            140012608\n",
              "5382               42000000             57850343\n",
              "\n",
              "[5034 rows x 2 columns]"
            ]
          },
          "metadata": {
            "tags": []
          },
          "execution_count": 5
        }
      ]
    },
    {
      "cell_type": "code",
      "metadata": {
        "id": "9ssP4xZrwGrp"
      },
      "source": [
        "# export cleaned data to a new file\n",
        "df.to_csv(r'cost_revenue_clean.csv', index = False)"
      ],
      "execution_count": 6,
      "outputs": []
    },
    {
      "cell_type": "code",
      "metadata": {
        "id": "MahRf4R51xu5"
      },
      "source": [
        ""
      ],
      "execution_count": 6,
      "outputs": []
    }
  ]
}